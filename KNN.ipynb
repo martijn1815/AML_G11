{
  "nbformat": 4,
  "nbformat_minor": 0,
  "metadata": {
    "colab": {
      "name": "KNN_easy.ipynb",
      "provenance": [],
      "collapsed_sections": []
    },
    "kernelspec": {
      "name": "python3",
      "display_name": "Python 3"
    }
  },
  "cells": [
    {
      "cell_type": "code",
      "metadata": {
        "colab": {
          "base_uri": "https://localhost:8080/"
        },
        "id": "hGHc8IekaVo_",
        "outputId": "f3b4ecdc-2472-402e-8eb2-adeddb99c85e"
      },
      "source": [
        "# dit is voor directory binnen google colab\n",
        "# %cd drive/MyDrive/Colab\\ Notebooks"
      ],
      "execution_count": 6,
      "outputs": [
        {
          "output_type": "stream",
          "text": [
            "/content/drive/MyDrive/Colab Notebooks\n"
          ],
          "name": "stdout"
        }
      ]
    },
    {
      "cell_type": "code",
      "metadata": {
        "id": "cyKnXujQ8N4s"
      },
      "source": [
        "# nog toe te voegen voor wie lokaal runt\n",
        "# is GPU toevoeging....."
      ],
      "execution_count": 125,
      "outputs": []
    },
    {
      "cell_type": "code",
      "metadata": {
        "id": "v-Gy8ozvZCcJ"
      },
      "source": [
        "from sklearn.neighbors import KNeighborsClassifier\n",
        "from sklearn.model_selection import train_test_split\n",
        "import numpy as np\n",
        "import cv2\n",
        "import pandas as pd\n",
        "import os\n",
        "import glob\n",
        "from matplotlib import pyplot as plt"
      ],
      "execution_count": 153,
      "outputs": []
    },
    {
      "cell_type": "code",
      "metadata": {
        "id": "7M1jFEgWbdsG"
      },
      "source": [
        "train_df = pd.read_csv(\"train_labels.csv\")"
      ],
      "execution_count": 113,
      "outputs": []
    },
    {
      "cell_type": "code",
      "metadata": {
        "id": "YF8G9-2KbFXx"
      },
      "source": [
        "# retrieve label for image\n",
        "def get_image_label(image_name, train_df):\n",
        "  return train_df[train_df.img_name == image_name].label.values[0]\n",
        "\n",
        "# transform image\n",
        "def image_to_feature(image, size=(224,224)):\n",
        "  # resize image to size, flatten to list (need to happen)\n",
        "  image = cv2.resize(image,size).flatten()\n",
        "  return image"
      ],
      "execution_count": 152,
      "outputs": []
    },
    {
      "cell_type": "code",
      "metadata": {
        "colab": {
          "base_uri": "https://localhost:8080/"
        },
        "id": "cIjVwAqPZhLM",
        "outputId": "3e4e3952-4478-4a1a-a26c-99ef904e1d4b"
      },
      "source": [
        "# change list directory if necessary\n",
        "image_paths_train = [\"train_set/\"+file for file in os.listdir(\"train_set\")]\n",
        "\n",
        "raw_images = []\n",
        "labels = []\n",
        "\n",
        "for i, image_path in enumerate(image_paths_train):\n",
        "  image = cv2.imread(image_path)\n",
        "  label = get_image_label(image_path[10:], train_df)\n",
        "\n",
        "  features = image_to_feature(image)\n",
        "  \n",
        "  raw_images.append(features)\n",
        "  labels.append(label)\n",
        "\n",
        "  # show update every 100 images\n",
        "  if i > 0 and i % 100 == 0:\n",
        "    print(\"Processed {}/{}\".format(i, len(image_paths)))"
      ],
      "execution_count": 150,
      "outputs": [
        {
          "output_type": "stream",
          "text": [
            "Processed 100/500\n",
            "Processed 200/500\n",
            "Processed 300/500\n",
            "Processed 400/500\n"
          ],
          "name": "stdout"
        }
      ]
    },
    {
      "cell_type": "code",
      "metadata": {
        "colab": {
          "base_uri": "https://localhost:8080/"
        },
        "id": "MpsB2Ve-O6Yr",
        "outputId": "206b1279-2f46-4a20-d44a-d5d7e9260949"
      },
      "source": [
        "import collections\n",
        "\n",
        "i = 0\n",
        "for im in raw_images:\n",
        "  print(len(im))\n",
        "  print(collections.Counter(im))\n",
        "  i += 1\n",
        "  if i > 5:\n",
        "    break"
      ],
      "execution_count": 151,
      "outputs": [
        {
          "output_type": "stream",
          "text": [
            "150528\n",
            "Counter({255: 3569, 0: 2259, 1: 1353, 4: 1211, 2: 1203, 254: 1183, 6: 1171, 7: 1159, 5: 1146, 3: 1131, 8: 1103, 10: 1028, 9: 977, 11: 971, 12: 909, 15: 889, 14: 857, 13: 851, 16: 842, 222: 840, 253: 838, 221: 831, 183: 830, 194: 830, 182: 822, 184: 813, 193: 810, 19: 809, 18: 807, 185: 800, 186: 798, 224: 796, 179: 794, 195: 794, 175: 789, 187: 779, 192: 774, 181: 767, 188: 764, 191: 757, 20: 754, 180: 752, 196: 749, 189: 745, 172: 744, 177: 744, 174: 743, 21: 742, 223: 741, 125: 726, 17: 726, 176: 723, 178: 722, 173: 717, 170: 704, 23: 702, 190: 702, 22: 700, 171: 699, 197: 698, 121: 695, 220: 694, 24: 677, 169: 675, 198: 674, 252: 666, 166: 664, 199: 664, 124: 663, 168: 658, 25: 653, 119: 652, 26: 638, 163: 635, 162: 634, 225: 623, 200: 622, 27: 619, 205: 616, 167: 605, 202: 600, 165: 595, 201: 595, 247: 592, 123: 586, 30: 586, 219: 586, 206: 583, 120: 583, 164: 579, 126: 576, 246: 574, 217: 574, 28: 573, 118: 572, 204: 571, 38: 571, 245: 563, 203: 558, 122: 557, 45: 557, 214: 556, 159: 555, 156: 554, 226: 552, 209: 550, 161: 548, 158: 548, 29: 548, 208: 548, 207: 546, 215: 545, 160: 544, 44: 543, 31: 542, 41: 540, 34: 539, 210: 538, 218: 537, 216: 537, 127: 536, 37: 536, 36: 534, 43: 532, 213: 532, 128: 530, 212: 528, 42: 525, 33: 524, 157: 523, 32: 521, 40: 517, 35: 516, 48: 513, 39: 512, 155: 504, 243: 501, 154: 500, 46: 500, 251: 495, 211: 495, 52: 493, 153: 489, 117: 489, 130: 487, 150: 484, 49: 484, 227: 483, 47: 483, 152: 478, 228: 473, 50: 471, 151: 469, 143: 468, 149: 468, 115: 468, 135: 464, 116: 464, 244: 464, 250: 462, 114: 462, 93: 462, 132: 461, 248: 461, 145: 459, 148: 455, 96: 454, 108: 453, 138: 453, 91: 452, 55: 452, 54: 452, 95: 450, 129: 450, 133: 448, 110: 446, 229: 445, 94: 445, 53: 445, 134: 444, 59: 444, 241: 444, 146: 442, 111: 442, 100: 442, 56: 441, 144: 439, 90: 438, 80: 438, 107: 436, 249: 436, 137: 433, 103: 433, 58: 431, 83: 431, 109: 430, 105: 430, 99: 430, 82: 430, 57: 430, 139: 429, 147: 427, 88: 427, 85: 425, 131: 422, 140: 421, 89: 421, 136: 420, 78: 419, 142: 419, 141: 418, 74: 416, 63: 416, 87: 415, 51: 414, 104: 414, 239: 414, 69: 413, 67: 409, 98: 408, 61: 407, 60: 404, 65: 403, 113: 402, 230: 402, 81: 402, 101: 401, 97: 401, 106: 400, 102: 400, 77: 396, 66: 396, 92: 396, 231: 396, 242: 394, 71: 394, 86: 393, 73: 393, 84: 389, 75: 387, 112: 382, 68: 381, 76: 380, 79: 378, 70: 375, 234: 371, 62: 369, 64: 367, 72: 363, 232: 360, 238: 357, 236: 356, 240: 351, 235: 344, 237: 342, 233: 330})\n",
            "150528\n",
            "Counter({41: 1131, 40: 1127, 42: 1122, 45: 1111, 38: 1105, 39: 1094, 36: 1081, 44: 1080, 37: 1072, 50: 1067, 35: 1063, 46: 1061, 48: 1049, 43: 1039, 47: 1033, 34: 1032, 33: 1019, 54: 1016, 49: 1013, 32: 1013, 53: 1002, 58: 1001, 56: 991, 31: 989, 30: 986, 86: 972, 55: 969, 27: 961, 51: 960, 65: 957, 52: 947, 57: 945, 59: 944, 76: 940, 62: 934, 68: 929, 69: 928, 26: 924, 70: 917, 28: 906, 61: 901, 29: 900, 64: 895, 84: 892, 75: 890, 90: 885, 97: 884, 74: 880, 66: 879, 73: 879, 92: 872, 63: 872, 77: 870, 80: 869, 81: 867, 98: 866, 60: 863, 78: 863, 83: 860, 25: 860, 71: 858, 93: 849, 96: 844, 72: 842, 67: 841, 79: 831, 99: 830, 87: 828, 94: 827, 91: 825, 23: 822, 95: 818, 89: 817, 100: 816, 82: 814, 24: 813, 88: 810, 103: 807, 22: 805, 104: 795, 85: 783, 101: 780, 102: 780, 108: 776, 105: 761, 110: 755, 107: 753, 109: 752, 113: 741, 111: 737, 20: 731, 112: 719, 106: 716, 21: 707, 19: 700, 117: 695, 119: 689, 131: 687, 123: 679, 114: 678, 115: 674, 121: 671, 126: 669, 118: 661, 130: 660, 132: 659, 127: 657, 116: 656, 128: 655, 120: 653, 125: 652, 122: 641, 129: 638, 133: 636, 18: 636, 134: 634, 124: 632, 136: 629, 135: 616, 17: 584, 137: 576, 139: 572, 138: 567, 16: 558, 225: 558, 140: 552, 224: 542, 142: 525, 15: 520, 226: 514, 144: 509, 227: 507, 14: 502, 143: 493, 141: 492, 228: 487, 223: 476, 12: 472, 145: 470, 13: 462, 229: 461, 151: 457, 146: 452, 233: 451, 11: 449, 232: 449, 235: 448, 221: 447, 222: 447, 148: 443, 147: 442, 10: 437, 230: 436, 155: 433, 231: 433, 154: 428, 234: 425, 149: 423, 150: 423, 160: 417, 152: 411, 153: 410, 220: 406, 237: 400, 236: 390, 158: 388, 0: 386, 240: 384, 9: 382, 238: 382, 216: 381, 217: 379, 165: 377, 218: 376, 159: 374, 219: 374, 163: 370, 167: 369, 243: 369, 161: 368, 241: 368, 170: 363, 175: 361, 8: 361, 166: 360, 168: 359, 156: 359, 172: 357, 162: 348, 171: 348, 5: 345, 215: 343, 205: 341, 245: 341, 169: 339, 212: 334, 196: 333, 239: 331, 242: 331, 213: 326, 7: 324, 208: 324, 6: 323, 244: 323, 210: 322, 157: 321, 201: 320, 214: 320, 164: 319, 173: 318, 204: 317, 174: 314, 207: 313, 3: 312, 209: 301, 4: 300, 206: 298, 211: 298, 177: 293, 2: 289, 1: 288, 180: 287, 202: 286, 246: 285, 197: 280, 199: 279, 181: 274, 203: 273, 194: 272, 200: 272, 176: 268, 179: 263, 193: 263, 178: 261, 198: 257, 247: 257, 187: 253, 191: 252, 195: 252, 182: 250, 185: 248, 192: 247, 188: 245, 189: 245, 183: 230, 186: 230, 184: 227, 190: 216, 248: 204, 250: 190, 249: 184, 251: 161, 252: 160, 253: 129, 254: 118, 255: 93})\n",
            "150528\n",
            "Counter({5: 5236, 6: 5104, 4: 4467, 8: 4032, 7: 3926, 9: 3870, 255: 3224, 10: 3206, 3: 3149, 11: 2825, 12: 2228, 254: 2048, 2: 1923, 13: 1902, 15: 1672, 16: 1663, 14: 1657, 253: 1560, 17: 1547, 18: 1493, 252: 1483, 20: 1465, 19: 1419, 21: 1281, 1: 1218, 251: 1174, 22: 1123, 23: 1033, 74: 971, 79: 963, 77: 943, 73: 917, 24: 903, 72: 900, 75: 895, 81: 888, 76: 887, 78: 877, 80: 876, 71: 872, 250: 872, 82: 867, 68: 840, 25: 834, 83: 821, 67: 794, 69: 792, 26: 791, 66: 787, 85: 786, 70: 778, 249: 765, 84: 742, 64: 731, 86: 729, 28: 708, 58: 700, 27: 686, 87: 682, 65: 673, 62: 671, 63: 666, 88: 666, 61: 664, 30: 663, 60: 653, 89: 646, 31: 641, 0: 637, 32: 635, 34: 635, 35: 621, 57: 617, 59: 614, 56: 612, 248: 609, 33: 608, 37: 588, 29: 582, 55: 576, 36: 571, 90: 562, 51: 546, 49: 544, 46: 543, 39: 542, 91: 542, 93: 539, 38: 539, 44: 538, 54: 529, 50: 522, 53: 518, 40: 518, 92: 517, 48: 511, 45: 511, 42: 501, 52: 500, 43: 497, 47: 496, 94: 494, 247: 492, 41: 478, 96: 453, 95: 424, 97: 418, 246: 393, 99: 382, 98: 379, 244: 366, 102: 365, 100: 364, 245: 340, 101: 337, 111: 321, 243: 301, 103: 301, 242: 301, 104: 299, 107: 291, 241: 288, 108: 286, 105: 286, 109: 285, 110: 284, 106: 284, 133: 276, 121: 270, 125: 270, 122: 270, 113: 269, 112: 268, 116: 266, 123: 264, 117: 263, 115: 260, 239: 258, 127: 257, 120: 257, 152: 255, 114: 253, 118: 252, 119: 252, 129: 249, 137: 249, 237: 246, 240: 246, 126: 243, 128: 240, 124: 239, 135: 239, 132: 239, 154: 238, 130: 233, 141: 233, 140: 229, 131: 227, 145: 225, 153: 224, 136: 221, 143: 221, 148: 221, 134: 220, 139: 220, 236: 217, 151: 215, 149: 215, 238: 215, 163: 213, 138: 209, 235: 205, 231: 205, 146: 203, 157: 202, 234: 202, 155: 202, 158: 201, 142: 200, 144: 198, 175: 198, 230: 193, 159: 191, 228: 190, 161: 186, 156: 186, 168: 185, 150: 185, 147: 180, 171: 178, 227: 178, 167: 176, 162: 176, 172: 175, 233: 175, 229: 174, 226: 172, 186: 172, 174: 172, 224: 172, 166: 171, 223: 170, 183: 169, 164: 166, 177: 166, 222: 166, 173: 165, 160: 165, 225: 165, 220: 163, 178: 162, 211: 162, 212: 161, 179: 161, 187: 160, 169: 160, 221: 159, 165: 158, 217: 158, 204: 158, 191: 158, 232: 158, 219: 156, 197: 155, 214: 155, 170: 152, 216: 152, 201: 150, 181: 150, 176: 150, 218: 150, 180: 149, 190: 147, 182: 146, 199: 146, 209: 146, 189: 145, 188: 145, 205: 142, 193: 142, 215: 140, 206: 140, 195: 136, 203: 135, 213: 135, 202: 133, 208: 133, 184: 133, 210: 131, 194: 130, 185: 129, 207: 128, 200: 127, 198: 127, 196: 118, 192: 116})\n",
            "150528\n",
            "Counter({233: 763, 236: 757, 238: 754, 237: 750, 239: 748, 235: 742, 109: 739, 229: 739, 240: 736, 242: 726, 234: 724, 111: 722, 105: 718, 183: 717, 227: 714, 184: 714, 176: 713, 231: 713, 232: 711, 63: 710, 224: 710, 177: 710, 223: 707, 172: 707, 230: 707, 175: 706, 241: 706, 112: 703, 64: 700, 62: 700, 226: 700, 113: 699, 116: 699, 61: 699, 218: 699, 174: 698, 120: 694, 170: 694, 173: 692, 117: 691, 103: 685, 106: 684, 194: 684, 115: 682, 187: 682, 220: 682, 216: 680, 243: 679, 114: 677, 67: 677, 178: 677, 164: 676, 122: 675, 219: 675, 182: 673, 190: 673, 185: 672, 180: 671, 169: 670, 118: 669, 228: 669, 101: 668, 181: 668, 189: 668, 110: 667, 212: 667, 108: 665, 104: 664, 211: 664, 215: 664, 213: 662, 209: 661, 222: 660, 225: 659, 100: 656, 179: 654, 29: 653, 160: 653, 188: 653, 198: 652, 221: 652, 162: 651, 217: 650, 31: 649, 191: 649, 159: 649, 199: 649, 139: 648, 168: 648, 203: 647, 161: 647, 66: 645, 65: 645, 195: 645, 107: 643, 119: 643, 246: 643, 205: 642, 171: 642, 24: 641, 121: 641, 244: 641, 196: 639, 197: 637, 206: 637, 207: 637, 210: 637, 163: 636, 28: 631, 155: 630, 214: 629, 152: 627, 186: 627, 166: 626, 204: 625, 124: 624, 193: 624, 30: 623, 158: 623, 165: 623, 208: 623, 245: 622, 77: 621, 148: 621, 192: 620, 202: 619, 167: 619, 97: 618, 70: 617, 200: 617, 68: 616, 129: 614, 131: 613, 157: 613, 123: 612, 154: 612, 60: 611, 137: 609, 99: 608, 150: 607, 26: 605, 95: 605, 125: 605, 69: 604, 201: 604, 74: 603, 71: 602, 130: 602, 141: 602, 140: 600, 144: 600, 151: 599, 156: 599, 27: 598, 102: 598, 33: 598, 59: 596, 76: 596, 138: 596, 135: 595, 146: 595, 98: 594, 136: 593, 134: 592, 34: 591, 126: 588, 35: 588, 78: 586, 88: 584, 21: 581, 32: 581, 25: 580, 93: 580, 248: 579, 23: 577, 94: 577, 142: 576, 153: 576, 149: 573, 127: 572, 72: 571, 90: 571, 80: 570, 145: 570, 84: 569, 73: 569, 147: 569, 128: 568, 89: 568, 75: 568, 96: 564, 133: 563, 83: 561, 91: 560, 82: 554, 143: 552, 249: 550, 92: 549, 247: 549, 39: 547, 36: 547, 22: 546, 132: 543, 37: 543, 79: 542, 57: 535, 58: 533, 87: 530, 20: 526, 85: 523, 81: 523, 38: 522, 86: 522, 19: 516, 43: 514, 40: 514, 250: 511, 56: 507, 46: 506, 41: 504, 47: 504, 50: 487, 44: 483, 49: 472, 54: 469, 42: 469, 53: 456, 48: 453, 45: 450, 51: 444, 55: 443, 18: 441, 251: 429, 17: 426, 52: 412, 15: 399, 16: 389, 252: 346, 14: 324, 253: 314, 13: 310, 12: 302, 254: 271, 11: 260, 9: 224, 10: 223, 255: 216, 8: 198, 7: 185, 5: 171, 3: 165, 0: 165, 6: 148, 1: 138, 4: 135, 2: 130})\n",
            "150528\n",
            "Counter({23: 2074, 22: 2062, 25: 2052, 21: 2017, 24: 2007, 26: 2004, 20: 1925, 27: 1890, 149: 1853, 18: 1811, 28: 1782, 151: 1782, 16: 1764, 19: 1757, 14: 1736, 150: 1710, 152: 1695, 153: 1693, 15: 1686, 17: 1670, 13: 1608, 148: 1597, 29: 1527, 154: 1526, 156: 1494, 155: 1475, 30: 1473, 12: 1448, 11: 1400, 147: 1383, 157: 1360, 158: 1356, 146: 1331, 31: 1315, 32: 1300, 145: 1295, 10: 1272, 33: 1240, 34: 1238, 159: 1212, 142: 1211, 36: 1203, 143: 1194, 163: 1190, 35: 1184, 144: 1176, 161: 1141, 37: 1134, 160: 1130, 162: 1122, 141: 1114, 138: 1106, 140: 1099, 137: 1090, 38: 1002, 164: 1001, 139: 999, 9: 990, 39: 974, 41: 968, 165: 966, 8: 921, 44: 918, 136: 918, 135: 911, 45: 909, 42: 908, 40: 903, 46: 885, 47: 875, 43: 873, 166: 852, 134: 818, 48: 780, 49: 754, 167: 752, 53: 742, 50: 742, 133: 723, 168: 721, 132: 717, 51: 707, 55: 699, 54: 686, 130: 677, 131: 661, 52: 655, 56: 653, 76: 636, 61: 634, 60: 631, 75: 629, 73: 629, 57: 623, 74: 621, 70: 609, 72: 606, 77: 598, 78: 597, 58: 590, 68: 589, 63: 586, 169: 582, 62: 581, 6: 581, 65: 577, 71: 573, 69: 567, 59: 560, 67: 556, 64: 555, 66: 543, 129: 524, 7: 513, 170: 512, 79: 502, 171: 490, 80: 485, 81: 483, 172: 482, 83: 472, 128: 443, 173: 427, 85: 422, 84: 421, 82: 412, 174: 400, 86: 394, 175: 394, 87: 387, 176: 356, 127: 354, 125: 346, 126: 346, 88: 343, 177: 338, 254: 332, 124: 330, 180: 329, 122: 322, 178: 322, 89: 320, 121: 315, 179: 299, 90: 285, 181: 283, 182: 279, 183: 273, 123: 271, 91: 262, 184: 253, 252: 253, 93: 247, 95: 245, 94: 242, 253: 239, 255: 239, 92: 236, 185: 227, 120: 223, 119: 223, 186: 216, 97: 214, 96: 212, 188: 208, 187: 202, 98: 184, 251: 184, 118: 181, 190: 180, 192: 178, 104: 175, 191: 174, 105: 171, 194: 167, 250: 167, 189: 166, 108: 162, 106: 158, 102: 158, 107: 156, 100: 155, 193: 155, 103: 153, 101: 153, 99: 151, 109: 150, 117: 149, 5: 146, 116: 144, 197: 144, 199: 142, 112: 138, 195: 135, 198: 122, 110: 120, 111: 118, 200: 116, 202: 114, 196: 112, 205: 107, 201: 106, 249: 106, 113: 105, 114: 104, 115: 104, 203: 99, 204: 98, 210: 96, 248: 95, 206: 89, 209: 86, 221: 85, 208: 85, 247: 82, 214: 79, 224: 78, 222: 77, 212: 75, 211: 74, 207: 72, 217: 70, 213: 70, 239: 68, 233: 66, 219: 66, 215: 64, 232: 64, 227: 64, 236: 63, 220: 62, 235: 62, 241: 61, 216: 59, 242: 59, 225: 58, 238: 58, 237: 58, 231: 58, 245: 58, 246: 57, 244: 57, 218: 56, 226: 55, 234: 55, 229: 55, 223: 54, 243: 53, 228: 50, 230: 48, 240: 47, 4: 46, 3: 22, 2: 13, 1: 11, 0: 7})\n",
            "150528\n",
            "Counter({236: 2903, 237: 2861, 238: 2831, 235: 2673, 230: 2471, 232: 2466, 231: 2443, 234: 2401, 239: 2396, 229: 2381, 233: 2343, 228: 2217, 227: 2123, 226: 2024, 240: 2020, 241: 1810, 225: 1798, 224: 1734, 223: 1631, 242: 1588, 222: 1566, 221: 1531, 218: 1480, 219: 1464, 217: 1429, 220: 1409, 243: 1355, 216: 1299, 215: 1256, 214: 1223, 213: 1155, 211: 1149, 244: 1144, 212: 1085, 207: 1038, 210: 1025, 209: 1016, 208: 1008, 206: 988, 245: 987, 190: 954, 203: 937, 202: 930, 195: 927, 205: 924, 200: 921, 204: 912, 197: 907, 196: 902, 194: 901, 189: 901, 193: 891, 191: 886, 201: 886, 186: 872, 192: 868, 188: 866, 199: 857, 198: 851, 187: 850, 184: 788, 183: 781, 182: 751, 246: 749, 180: 715, 185: 714, 181: 712, 179: 627, 247: 602, 176: 582, 177: 575, 175: 572, 178: 568, 170: 550, 169: 523, 171: 521, 173: 521, 174: 515, 112: 510, 116: 507, 172: 507, 114: 505, 168: 503, 115: 499, 118: 495, 166: 493, 123: 492, 119: 489, 167: 480, 122: 473, 108: 472, 111: 471, 141: 469, 129: 468, 124: 468, 121: 466, 113: 466, 120: 465, 248: 463, 144: 462, 165: 461, 164: 460, 110: 460, 163: 456, 130: 456, 117: 454, 143: 451, 128: 449, 107: 447, 127: 446, 109: 445, 161: 444, 142: 443, 145: 439, 135: 438, 136: 437, 132: 436, 125: 434, 104: 433, 140: 431, 126: 430, 152: 430, 137: 430, 151: 429, 146: 428, 106: 427, 138: 426, 159: 425, 105: 422, 139: 420, 103: 417, 131: 417, 147: 416, 158: 416, 149: 412, 133: 412, 162: 412, 148: 409, 102: 407, 155: 407, 134: 406, 160: 405, 99: 400, 153: 391, 154: 387, 150: 386, 157: 386, 100: 383, 156: 380, 89: 377, 101: 371, 98: 368, 249: 366, 90: 365, 91: 357, 88: 342, 84: 339, 87: 339, 94: 333, 97: 332, 92: 328, 81: 327, 95: 326, 83: 322, 96: 321, 85: 320, 71: 316, 77: 315, 250: 312, 74: 308, 86: 307, 73: 305, 75: 299, 76: 295, 72: 293, 69: 290, 93: 286, 80: 285, 82: 281, 70: 276, 68: 274, 67: 274, 66: 272, 79: 267, 78: 261, 64: 245, 63: 245, 65: 244, 62: 242, 61: 232, 60: 227, 252: 227, 251: 226, 58: 224, 56: 206, 53: 201, 59: 201, 57: 199, 253: 192, 54: 189, 50: 181, 51: 179, 52: 172, 254: 162, 49: 160, 55: 156, 38: 149, 47: 146, 46: 145, 44: 142, 45: 139, 43: 139, 41: 138, 36: 134, 37: 127, 30: 126, 48: 125, 42: 124, 35: 124, 255: 124, 33: 117, 31: 116, 40: 113, 39: 112, 28: 111, 32: 110, 34: 105, 29: 97, 24: 92, 25: 91, 27: 82, 21: 82, 23: 77, 22: 74, 19: 70, 0: 70, 20: 69, 26: 66, 16: 65, 17: 63, 18: 61, 13: 58, 12: 55, 10: 52, 11: 50, 14: 47, 9: 44, 1: 43, 4: 43, 7: 42, 5: 41, 15: 39, 3: 38, 2: 35, 6: 35, 8: 33})\n"
          ],
          "name": "stdout"
        }
      ]
    },
    {
      "cell_type": "code",
      "metadata": {
        "id": "WWsPloodcH8y"
      },
      "source": [
        "# split data into train and validate\n",
        "trainRI, testRI, trainL, testL = train_test_split(raw_images, labels, test_size=0.1, random_state=20)"
      ],
      "execution_count": 117,
      "outputs": []
    },
    {
      "cell_type": "code",
      "metadata": {
        "id": "7ikacKUjpBMk"
      },
      "source": [
        "def get_model_accuracy(k, train_images, test_images, train_label, test_label):\n",
        "  model = KNeighborsClassifier(n_neighbors=k)\n",
        "  model.fit(train_images, train_label)\n",
        "  predictions = model.predict(test_images)\n",
        "  acc = model.score(test_images, test_label)\n",
        "  return acc"
      ],
      "execution_count": 119,
      "outputs": []
    },
    {
      "cell_type": "code",
      "metadata": {
        "id": "FREGFlm6pcsR"
      },
      "source": [
        "%%time\n",
        "accuracy_k = []\n",
        "\n",
        "# fit model for vaious of k, get accuracy\n",
        "for k in range(1,51):\n",
        "  acc = get_model_accuracy(k, trainRI, testRI, trainL, testL)\n",
        "  # print(\"raw image accuracy for k = {}: {:.2f}%\".format(k, acc*100))\n",
        "  accuracy_k.append([k, acc])"
      ],
      "execution_count": 120,
      "outputs": []
    },
    {
      "cell_type": "code",
      "metadata": {
        "colab": {
          "base_uri": "https://localhost:8080/",
          "height": 296
        },
        "id": "-yFoDzDJpxPd",
        "outputId": "b1aded86-f679-439e-fbf0-0cb7d879ffe4"
      },
      "source": [
        "# plot accuracy_k\n",
        "x_labels = [item[0] for item in accuracy_k]\n",
        "y_labels = [item[1] for item in accuracy_k]\n",
        "plt.plot(x_labels, y_labels)\n",
        "plt.xlabel('Number of neighbors')\n",
        "plt.ylabel('Accuracy')\n",
        "plt.show()\n",
        "\n",
        "# get top accuracy lowest k or highest k\n",
        "top_k = max(accuracy_k, key=lambda x:x[1])\n",
        "print(\"Highest acc of {}, with {} neighbours\".format(top_k[1], top_k[0]))"
      ],
      "execution_count": 124,
      "outputs": [
        {
          "output_type": "display_data",
          "data": {
            "image/png": "[encoded data removed]",
            "text/plain": [
              "<Figure size 432x288 with 1 Axes>"
            ]
          },
          "metadata": {
            "tags": [],
            "needs_background": "light"
          }
        },
        {
          "output_type": "stream",
          "text": [
            "Highest acc of 6.0, with 2 neighbours\n"
          ],
          "name": "stdout"
        }
      ]
    },
    {
      "cell_type": "code",
      "metadata": {
        "colab": {
          "base_uri": "https://localhost:8080/"
        },
        "id": "1_gG72hVtzm9",
        "outputId": "9a972703-eceb-4aa0-ea17-f715fea1d445"
      },
      "source": [
        "# process all test images\n",
        "image_path_test = [\"test_set/\"+file for file in os.listdir(\"test_set\")]\n",
        "\n",
        "test_images = []\n",
        "\n",
        "for i, image_path in enumerate(image_path_test):\n",
        "  image = cv2.imread(image_path)\n",
        "  features = image_to_feature(image)\n",
        "  test_images.append(features)\n",
        "\n",
        "  # show update every 100 images\n",
        "  if i > 0 and i % 100 == 0:\n",
        "    print(\"Processed {}/{}\".format(i, len(image_paths)))"
      ],
      "execution_count": 122,
      "outputs": [
        {
          "output_type": "stream",
          "text": [
            "Processed 100/500\n",
            "Processed 200/500\n"
          ],
          "name": "stdout"
        }
      ]
    },
    {
      "cell_type": "code",
      "metadata": {
        "id": "Gyb9JBO3v51j"
      },
      "source": [
        "# get predictions for our choice of k\n",
        "model = KNeighborsClassifier(n_neighbors=top_k[0])\n",
        "model.fit(trainRI, trainL)\n",
        "predictions = model.predict(test_images)\n",
        "\n",
        "# put prediction csv together\n",
        "image_names = [image[9:] for image in image_path_test]\n",
        "\n",
        "data = list(zip(image_names, predictions))\n",
        "df = pd.DataFrame(data, columns=['img_name', 'label']).sort_values(by='img_name')\n",
        "\n",
        "# put test labels in csv file\n",
        "#df.to_csv(\"predictions/predictions_knn.csv\")"
      ],
      "execution_count": 154,
      "outputs": []
    },
    {
      "cell_type": "code",
      "metadata": {
        "colab": {
          "base_uri": "https://localhost:8080/",
          "height": 402
        },
        "id": "AnJRw6AEX7ti",
        "outputId": "1b4c57fd-080a-427e-96e3-5bd91aebf8f9"
      },
      "source": [
        "df"
      ],
      "execution_count": 155,
      "outputs": [
        {
          "output_type": "execute_result",
          "data": {
            "text/html": [
              "<div>\n",
              "<style scoped>\n",
              "    .dataframe tbody tr th:only-of-type {\n",
              "        vertical-align: middle;\n",
              "    }\n",
              "\n",
              "    .dataframe tbody tr th {\n",
              "        vertical-align: top;\n",
              "    }\n",
              "\n",
              "    .dataframe thead th {\n",
              "        text-align: right;\n",
              "    }\n",
              "</style>\n",
              "<table border=\"1\" class=\"dataframe\">\n",
              "  <thead>\n",
              "    <tr style=\"text-align: right;\">\n",
              "      <th></th>\n",
              "      <th>img_name</th>\n",
              "      <th>label</th>\n",
              "    </tr>\n",
              "  </thead>\n",
              "  <tbody>\n",
              "    <tr>\n",
              "      <th>8</th>\n",
              "      <td>test_1.jpg</td>\n",
              "      <td>35</td>\n",
              "    </tr>\n",
              "    <tr>\n",
              "      <th>21</th>\n",
              "      <td>test_10.jpg</td>\n",
              "      <td>37</td>\n",
              "    </tr>\n",
              "    <tr>\n",
              "      <th>9</th>\n",
              "      <td>test_100.jpg</td>\n",
              "      <td>1</td>\n",
              "    </tr>\n",
              "    <tr>\n",
              "      <th>20</th>\n",
              "      <td>test_1000.jpg</td>\n",
              "      <td>24</td>\n",
              "    </tr>\n",
              "    <tr>\n",
              "      <th>16</th>\n",
              "      <td>test_1001.jpg</td>\n",
              "      <td>30</td>\n",
              "    </tr>\n",
              "    <tr>\n",
              "      <th>...</th>\n",
              "      <td>...</td>\n",
              "      <td>...</td>\n",
              "    </tr>\n",
              "    <tr>\n",
              "      <th>237</th>\n",
              "      <td>test_1232.jpg</td>\n",
              "      <td>45</td>\n",
              "    </tr>\n",
              "    <tr>\n",
              "      <th>250</th>\n",
              "      <td>test_1233.jpg</td>\n",
              "      <td>24</td>\n",
              "    </tr>\n",
              "    <tr>\n",
              "      <th>235</th>\n",
              "      <td>test_1234.jpg</td>\n",
              "      <td>24</td>\n",
              "    </tr>\n",
              "    <tr>\n",
              "      <th>239</th>\n",
              "      <td>test_1235.jpg</td>\n",
              "      <td>8</td>\n",
              "    </tr>\n",
              "    <tr>\n",
              "      <th>263</th>\n",
              "      <td>test_1236.jpg</td>\n",
              "      <td>26</td>\n",
              "    </tr>\n",
              "  </tbody>\n",
              "</table>\n",
              "<p>265 rows × 2 columns</p>\n",
              "</div>"
            ],
            "text/plain": [
              "          img_name  label\n",
              "8       test_1.jpg     35\n",
              "21     test_10.jpg     37\n",
              "9     test_100.jpg      1\n",
              "20   test_1000.jpg     24\n",
              "16   test_1001.jpg     30\n",
              "..             ...    ...\n",
              "237  test_1232.jpg     45\n",
              "250  test_1233.jpg     24\n",
              "235  test_1234.jpg     24\n",
              "239  test_1235.jpg      8\n",
              "263  test_1236.jpg     26\n",
              "\n",
              "[265 rows x 2 columns]"
            ]
          },
          "metadata": {
            "tags": []
          },
          "execution_count": 155
        }
      ]
    },
    {
      "cell_type": "code",
      "metadata": {
        "id": "Ff5iK7O3x6IY"
      },
      "source": [
        ""
      ],
      "execution_count": null,
      "outputs": []
    }
  ]
}